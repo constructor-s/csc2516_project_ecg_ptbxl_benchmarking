{
 "cells": [
  {
   "cell_type": "code",
   "execution_count": 1,
   "metadata": {},
   "outputs": [],
   "source": [
    "from experiments.scp_experiment import SCP_Experiment\n",
    "from models.base_model import ClassificationModel\n",
    "import numpy as np\n",
    "\n",
    "class ConstantPredictionModel(ClassificationModel):\n",
    "    \"\"\"\n",
    "    An example model that does not do any training and \n",
    "    returns the same constant prediction for all input\n",
    "    \"\"\"\n",
    "    def __init__(self, name, n_classes,  sampling_frequency, outputfolder, input_shape):\n",
    "        self.name = name\n",
    "        self.n_classes = n_classes\n",
    "        self.sampling_frequency = sampling_frequency\n",
    "        self.outputfolder = outputfolder\n",
    "        self.input_shape = input_shape \n",
    "\n",
    "    def fit(self, X_train, y_train, X_val, y_val):\n",
    "        pass\n",
    "\n",
    "    def predict(self, X):\n",
    "        batch_size, _, _ = X.shape\n",
    "        ret = np.zeros([batch_size, self.n_classes], dtype=np.int)\n",
    "        ret[:, 6] = 1\n",
    "        return ret\n",
    "\n",
    "# Below is a config to be used with our modified SCP_Experiment class\n",
    "# which accepts a \"modelclass\" so that we can easily test any custom \n",
    "# defined model in a notebook\n",
    "constant_config = {'modelname': 'ConstantModel', \n",
    "                   'modelclass': ConstantPredictionModel,\n",
    "                   'modeltype': None, \n",
    "                   'parameters': dict()}\n",
    "\n",
    "datafolder = '../data/ptbxl/'\n",
    "outputfolder = '../output/'\n",
    "# experiments = [\n",
    "#     ('exp0', 'all'),\n",
    "#     ('exp1', 'diagnostic'),\n",
    "#     ('exp1.1', 'subdiagnostic'),\n",
    "#     ('exp1.1.1', 'superdiagnostic'),\n",
    "#     ('exp2', 'form'),\n",
    "#     ('exp3', 'rhythm')\n",
    "#     ]\n",
    "experiment = SCP_Experiment(experiment_name=\"my_exp1\", task=\"diagnostic\", \n",
    "                            datafolder=datafolder, outputfolder=outputfolder, \n",
    "                            models=[constant_config])\n"
   ]
  },
  {
   "cell_type": "code",
   "execution_count": 2,
   "metadata": {},
   "outputs": [
    {
     "name": "stdout",
     "output_type": "stream",
     "text": [
      "expriment.prepare() finished in 26.9028147 sec\n"
     ]
    }
   ],
   "source": [
    "# This line takes a while to run\n",
    "import time\n",
    "tic = time.perf_counter()\n",
    "experiment.prepare()\n",
    "print(f\"expriment.prepare() finished in {time.perf_counter() - tic} sec\")"
   ]
  },
  {
   "cell_type": "code",
   "execution_count": 3,
   "metadata": {},
   "outputs": [],
   "source": [
    "experiment.perform()"
   ]
  },
  {
   "cell_type": "code",
   "execution_count": 4,
   "metadata": {},
   "outputs": [
    {
     "name": "stdout",
     "output_type": "stream",
     "text": [
      "ConstantModel\n",
      "ensemble\n",
      "naive\n"
     ]
    }
   ],
   "source": [
    "experiment.evaluate(bootstrap_eval=False)"
   ]
  },
  {
   "cell_type": "code",
   "execution_count": 5,
   "metadata": {},
   "outputs": [
    {
     "name": "stdout",
     "output_type": "stream",
     "text": [
      "ConstantModel\n",
      "       macro_auc\n",
      "point        0.5\n",
      "mean         0.5\n",
      "lower        0.5\n",
      "upper        0.5\n",
      "ensemble\n",
      "       macro_auc\n",
      "point        0.5\n",
      "mean         0.5\n",
      "lower        0.5\n",
      "upper        0.5\n",
      "naive\n",
      "       macro_auc\n",
      "point        0.5\n",
      "mean         0.5\n",
      "lower        0.5\n",
      "upper        0.5\n"
     ]
    }
   ],
   "source": [
    "import pandas as pd\n",
    "import os\n",
    "for m in sorted(os.listdir(experiment.outputfolder+experiment.experiment_name+'/models')):\n",
    "    print(m)\n",
    "    rpath = experiment.outputfolder+experiment.experiment_name+'/models/'+m+'/results/'\n",
    "    print(pd.read_csv(rpath+'te_results.csv', index_col=0))\n"
   ]
  },
  {
   "cell_type": "code",
   "execution_count": 6,
   "metadata": {},
   "outputs": [
    {
     "name": "stdout",
     "output_type": "stream",
     "text": [
      "Finetuning-Example.ipynb\n",
      "__init__.py\n",
      "__pycache__\n",
      "basics.ipynb\n",
      "configs\n",
      "experiments\n",
      "models\n",
      "reproduce_results.py\n",
      "utils\n"
     ]
    }
   ],
   "source": [
    "!ls"
   ]
  },
  {
   "cell_type": "code",
   "execution_count": null,
   "metadata": {},
   "outputs": [],
   "source": []
  }
 ],
 "metadata": {
  "kernelspec": {
   "display_name": "Python 3",
   "language": "python",
   "name": "python3"
  },
  "language_info": {
   "codemirror_mode": {
    "name": "ipython",
    "version": 3
   },
   "file_extension": ".py",
   "mimetype": "text/x-python",
   "name": "python",
   "nbconvert_exporter": "python",
   "pygments_lexer": "ipython3",
   "version": "3.8.6"
  }
 },
 "nbformat": 4,
 "nbformat_minor": 4
}
